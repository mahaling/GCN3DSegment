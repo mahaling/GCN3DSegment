{
 "cells": [
  {
   "cell_type": "markdown",
   "metadata": {
    "colab_type": "text",
    "id": "X2Fj4S3r0p1A"
   },
   "source": [
    "##### Copyright 2019 Google LLC.\n"
   ]
  },
  {
   "cell_type": "code",
   "execution_count": 1,
   "metadata": {
    "cellView": "form",
    "colab": {},
    "colab_type": "code",
    "id": "Okg-R95R1CaX"
   },
   "outputs": [],
   "source": [
    "#@title Licensed under the Apache License, Version 2.0 (the \"License\");\n",
    "# you may not use this file except in compliance with the License.\n",
    "# You may obtain a copy of the License at\n",
    "#\n",
    "# https://www.apache.org/licenses/LICENSE-2.0\n",
    "#\n",
    "# Unless required by applicable law or agreed to in writing, software\n",
    "# distributed under the License is distributed on an \"AS IS\" BASIS,\n",
    "# WITHOUT WARRANTIES OR CONDITIONS OF ANY KIND, either express or implied.\n",
    "# See the License for the specific language governing permissions and\n",
    "# limitations under the License."
   ]
  },
  {
   "cell_type": "markdown",
   "metadata": {
    "colab_type": "text",
    "id": "t4v1coMcWtiJ"
   },
   "source": [
    "# Mesh Segmentation using Feature Steered Graph Convolutions\n",
    "\n",
    "Segmenting a mesh to its semantic parts is an important problem for 3D shape\n",
    "understanding. This colab demonstrates how to build a semantic mesh segmentation\n",
    "model for deformable shapes using graph convolution layers defined in\n",
    "[Tensorflow Graphics](https://github.com/tensorflow/graphics).\n",
    "\n",
    "![](https://storage.googleapis.com/tensorflow-graphics/notebooks/mesh_segmentation/mesh_segmentation_demo.png)\n",
    "\n",
    "This notebook covers the following key topics:\n",
    "* How to use graph-convolutional layers to define a CNN for mesh segmentation.\n",
    "* How to setup a data pipeline torepresent mesh connectivity with SparseTensors.\n",
    "\n",
    "Note: The easiest way to use this tutorial is as a Colab notebook, which allows\n",
    "you to dive in with no setup.\n",
    "\n",
    "### Image Convolutions vs Graph Convolutions\n",
    "\n",
    "Images are represented by uniform grids of pixels. Running convolutions on\n",
    "uniform grids is a well understood process and is at the core of a significant\n",
    "amount of products and academic publications.\n",
    "![](https://storage.googleapis.com/tensorflow-graphics/notebooks/mesh_segmentation/cat_image_convolutions.png)\n",
    "\n",
    "However, things become a bit more complicated when dealing with three\n",
    "dimensional objects such as meshes or point clouds since these are not defined\n",
    "on regular grids. A convolution operation for meshes or point clouds must\n",
    "operate on irregular data structures. This makes convolutional neural\n",
    "networks based on them harder to implement.\n",
    "![](https://storage.googleapis.com/tensorflow-graphics/notebooks/mesh_segmentation/cat_mesh_convolutions.png)\n",
    "\n",
    "Any general mesh can be denoted as a graph that is not constrained to a regular grid. Many graph-convolutional operators have been published in\n",
    "the recent years. In this demo we use the method described in\n",
    "[Feature Steered Graph Convolutions](https://arxiv.org/abs/1706.05206). Similar\n",
    "to it's image counterpart, this basic building block can be used do solve a\n",
    "plethora of problems. This Colab focusses on segmenting deformable meshes of\n",
    "human bodies into parts (e.g. head, right foot, etc.)."
   ]
  },
  {
   "cell_type": "markdown",
   "metadata": {
    "colab_type": "text",
    "id": "PNQ29y8Q4_cH"
   },
   "source": [
    "## Setup & Imports\n",
    "\n",
    "To run this Colab optimally, please update the runtime type to use a GPU\n",
    "hardware accelerator. - click on the 'Runtime' menu, then 'Change runtime type':\n",
    "\n",
    "![](https://storage.googleapis.com/tensorflow-graphics/notebooks/non_rigid_deformation/change_runtime.jpg)\n",
    "\n",
    "-   finally, set the 'Hardware accelerator' to 'GPU'.\n",
    "\n",
    "![](https://storage.googleapis.com/tensorflow-graphics/notebooks/mesh_segmentation/gpu_runtime.png)\n",
    "\n",
    "If Tensorflow Graphics is not installed on your system, the following cell will\n",
    "install the Tensorflow Graphics package for you."
   ]
  },
  {
   "cell_type": "markdown",
   "metadata": {
    "colab_type": "text",
    "id": "UkPKOuyJKuKM"
   },
   "source": [
    "Now that Tensorflow Graphics and dependencies are installed, let's import everything needed to run the demos contained in this notebook."
   ]
  },
  {
   "cell_type": "code",
   "execution_count": 3,
   "metadata": {
    "colab": {},
    "colab_type": "code",
    "id": "KlBviBxue7n0"
   },
   "outputs": [
    {
     "name": "stderr",
     "output_type": "stream",
     "text": [
      "/usr/local/lib/python3.7/site-packages/tensorflow/python/framework/dtypes.py:516: FutureWarning: Passing (type, 1) or '1type' as a synonym of type is deprecated; in a future version of numpy, it will be understood as (type, (1,)) / '(1,)type'.\n",
      "  _np_qint8 = np.dtype([(\"qint8\", np.int8, 1)])\n",
      "/usr/local/lib/python3.7/site-packages/tensorflow/python/framework/dtypes.py:517: FutureWarning: Passing (type, 1) or '1type' as a synonym of type is deprecated; in a future version of numpy, it will be understood as (type, (1,)) / '(1,)type'.\n",
      "  _np_quint8 = np.dtype([(\"quint8\", np.uint8, 1)])\n",
      "/usr/local/lib/python3.7/site-packages/tensorflow/python/framework/dtypes.py:518: FutureWarning: Passing (type, 1) or '1type' as a synonym of type is deprecated; in a future version of numpy, it will be understood as (type, (1,)) / '(1,)type'.\n",
      "  _np_qint16 = np.dtype([(\"qint16\", np.int16, 1)])\n",
      "/usr/local/lib/python3.7/site-packages/tensorflow/python/framework/dtypes.py:519: FutureWarning: Passing (type, 1) or '1type' as a synonym of type is deprecated; in a future version of numpy, it will be understood as (type, (1,)) / '(1,)type'.\n",
      "  _np_quint16 = np.dtype([(\"quint16\", np.uint16, 1)])\n",
      "/usr/local/lib/python3.7/site-packages/tensorflow/python/framework/dtypes.py:520: FutureWarning: Passing (type, 1) or '1type' as a synonym of type is deprecated; in a future version of numpy, it will be understood as (type, (1,)) / '(1,)type'.\n",
      "  _np_qint32 = np.dtype([(\"qint32\", np.int32, 1)])\n",
      "/usr/local/lib/python3.7/site-packages/tensorflow/python/framework/dtypes.py:525: FutureWarning: Passing (type, 1) or '1type' as a synonym of type is deprecated; in a future version of numpy, it will be understood as (type, (1,)) / '(1,)type'.\n",
      "  np_resource = np.dtype([(\"resource\", np.ubyte, 1)])\n",
      "/usr/local/Cellar/python/3.7.0/Frameworks/Python.framework/Versions/3.7/lib/python3.7/importlib/_bootstrap.py:219: RuntimeWarning: compiletime version 3.6 of module 'tensorflow.python.framework.fast_tensor_util' does not match runtime version 3.7\n",
      "  return f(*args, **kwds)\n",
      "/usr/local/lib/python3.7/site-packages/tensorboard/compat/tensorflow_stub/dtypes.py:541: FutureWarning: Passing (type, 1) or '1type' as a synonym of type is deprecated; in a future version of numpy, it will be understood as (type, (1,)) / '(1,)type'.\n",
      "  _np_qint8 = np.dtype([(\"qint8\", np.int8, 1)])\n",
      "/usr/local/lib/python3.7/site-packages/tensorboard/compat/tensorflow_stub/dtypes.py:542: FutureWarning: Passing (type, 1) or '1type' as a synonym of type is deprecated; in a future version of numpy, it will be understood as (type, (1,)) / '(1,)type'.\n",
      "  _np_quint8 = np.dtype([(\"quint8\", np.uint8, 1)])\n",
      "/usr/local/lib/python3.7/site-packages/tensorboard/compat/tensorflow_stub/dtypes.py:543: FutureWarning: Passing (type, 1) or '1type' as a synonym of type is deprecated; in a future version of numpy, it will be understood as (type, (1,)) / '(1,)type'.\n",
      "  _np_qint16 = np.dtype([(\"qint16\", np.int16, 1)])\n",
      "/usr/local/lib/python3.7/site-packages/tensorboard/compat/tensorflow_stub/dtypes.py:544: FutureWarning: Passing (type, 1) or '1type' as a synonym of type is deprecated; in a future version of numpy, it will be understood as (type, (1,)) / '(1,)type'.\n",
      "  _np_quint16 = np.dtype([(\"quint16\", np.uint16, 1)])\n",
      "/usr/local/lib/python3.7/site-packages/tensorboard/compat/tensorflow_stub/dtypes.py:545: FutureWarning: Passing (type, 1) or '1type' as a synonym of type is deprecated; in a future version of numpy, it will be understood as (type, (1,)) / '(1,)type'.\n",
      "  _np_qint32 = np.dtype([(\"qint32\", np.int32, 1)])\n",
      "/usr/local/lib/python3.7/site-packages/tensorboard/compat/tensorflow_stub/dtypes.py:550: FutureWarning: Passing (type, 1) or '1type' as a synonym of type is deprecated; in a future version of numpy, it will be understood as (type, (1,)) / '(1,)type'.\n",
      "  np_resource = np.dtype([(\"resource\", np.ubyte, 1)])\n",
      "Warning: To use the exr data format, please install the OpenEXR package following the instructions detailed in the README at github.com/tensorflow/graphics.\n",
      "Warning: To use the threejs_vizualization, please install the colabtools package following the instructions detailed in the README at github.com/tensorflow/graphics.\n",
      "WARNING: Logging before flag parsing goes to stderr.\n",
      "W0930 21:27:26.808434 4516181440 scad.py:23] searching for scad in: /usr/local/bin:/Users/vrlab/anaconda3/condabin:/Users/vrlab/Library/Android/sdk/platform-tools:/usr/local/opt/gettext/bin:/usr/local/bin:/usr/bin:/bin:/usr/sbin:/sbin:/Applications/VMware Fusion.app/Contents/Public:/Library/TeX/texbin:/opt/X11/bin:/Library/Frameworks/Mono.framework/Versions/Current/Commands:/Applications/OpenSCAD.app/Contents/MacOS\n"
     ]
    }
   ],
   "source": [
    "from __future__ import absolute_import\n",
    "from __future__ import division\n",
    "from __future__ import print_function\n",
    "\n",
    "import os\n",
    "import tensorflow as tf\n",
    "\n",
    "from tensorflow_graphics.nn.layer import graph_convolution as graph_conv\n",
    "from tensorflow_graphics.notebooks import mesh_segmentation_dataio as dataio\n",
    "from tensorflow_graphics.notebooks import mesh_viewer\n",
    "%load_ext tensorboard\n",
    "\n",
    "import numpy as np\n",
    "import trimesh\n",
    "from mesh_visualization import *\n",
    "\n",
    "import matplotlib.pyplot as plt\n",
    "%matplotlib inline\n",
    "\n",
    "# Enable autoload, since external python file will be changed after imported\n",
    "%load_ext autoreload\n",
    "%autoreload 1\n",
    "%aimport mesh_visualization"
   ]
  },
  {
   "cell_type": "markdown",
   "metadata": {
    "colab_type": "text",
    "id": "AGaDtH49dlJb"
   },
   "source": [
    "Note this notebook works best in Graph mode."
   ]
  },
  {
   "cell_type": "markdown",
   "metadata": {
    "colab_type": "text",
    "id": "dmh4b6VKcATt"
   },
   "source": [
    "## Load and visualize test data\n",
    "\n",
    "For graph convolutions, we need a *weighted adjacency matrix* denoting the mesh\n",
    "connectivity. Feature-steered graph convolutions expect self-edges in the mesh\n",
    "connectivity for each vertex, i.e. the diagonal of the weighted adjacency matrix\n",
    "should be non-zero. This matrix is defined as:\n",
    "```\n",
    "A[i, j] = w[i,j] if vertex i and vertex j share an edge,\n",
    "A[i, i] = w[i,i] for each vertex i,\n",
    "A[i, j] = 0 otherwise.\n",
    "where, w[i, j] = 1/(degree(vertex i)), and sum(j)(w[i,j]) = 1\n",
    "```\n",
    "Here degree(vertex i) is the number of edges incident on a vertex (including the\n",
    "self-edge). This weighted adjacency matrix is stored as a SparseTensor.\n",
    "\n",
    "We will load the test meshes from the test [tf.data.TFRecordDataset](https://www.tensorflow.org/api_docs/python/tf/data/TFRecordDataset)\n",
    "downloaded above. Each mesh is stored as a\n",
    "[tf.Example](https://www.tensorflow.org/api_docs/python/tf/train/Example), with\n",
    "the following fields:\n",
    "\n",
    "*   'num_vertices': Number of vertices in each mesh\n",
    "*   'num_triangles': Number of triangles in each mesh.\n",
    "*   'vertices': A [V, 3] float tensor of vertex positions.\n",
    "*   'triangles': A [T, 3] integer tensor of vertex indices for each triangle.\n",
    "*   'labels': A [V] integer tensor with segmentation class label for each\n",
    "    vertex.\n",
    "\n",
    "where 'V' is number of vertices and 'T' is number of triangles in the mesh. As\n",
    "each mesh may have a varying number of vertices and faces (and the corresponding\n",
    "connectivity matrix), we pad the data tensors with '0's in each batch.\n",
    "\n",
    "For details on the dataset pipeline implementation, take a look at\n",
    "mesh_segmentation_dataio.py.\n",
    "\n",
    "Lets try to load a batch from the test TFRecordDataset, and visualize the first\n",
    "mesh with each vertex colored by the part label."
   ]
  },
  {
   "cell_type": "code",
   "execution_count": 10,
   "metadata": {
    "colab": {},
    "colab_type": "code",
    "id": "LZM02o0pEny6"
   },
   "outputs": [],
   "source": [
    "test_io_params = {\n",
    "    'is_training': False,\n",
    "    'sloppy': False,\n",
    "    'shuffle': True,\n",
    "}\n",
    "test_tfrecords = ['./datasets/cosegCup.train.tfrecords']\n",
    "\n",
    "input_graph = tf.Graph()\n",
    "with input_graph.as_default():\n",
    "  mesh_load_op = dataio.create_input_from_dataset(\n",
    "      dataio.create_dataset_from_tfrecords, test_tfrecords, test_io_params)\n",
    "  with tf.Session() as sess:\n",
    "    test_mesh_data, test_labels = sess.run(mesh_load_op)\n",
    "    \n",
    "cur_model_idx = 0"
   ]
  },
  {
   "cell_type": "code",
   "execution_count": 11,
   "metadata": {
    "colab": {},
    "colab_type": "code",
    "id": "jgRp-0fplMBD"
   },
   "outputs": [
    {
     "data": {
      "application/vnd.jupyter.widget-view+json": {
       "model_id": "03d9deb869244d8d8e2cffcfba784af4",
       "version_major": 2,
       "version_minor": 0
      },
      "text/plain": [
       "Renderer(background='#dddddd', camera=PerspectiveCamera(aspect=1.5, children=(DirectionalLight(position=(-30.0…"
      ]
     },
     "metadata": {},
     "output_type": "display_data"
    }
   ],
   "source": [
    "input_mesh_data = {\n",
    "    'vertices': test_mesh_data['vertices'][cur_model_idx],\n",
    "    'faces': test_mesh_data['triangles'][cur_model_idx],\n",
    "    'vertex_colors': mesh_viewer.SEGMENTATION_COLORMAP[test_labels[cur_model_idx]],\n",
    "}\n",
    "display_mesh(input_mesh_data)\n",
    "\n",
    "cur_model_idx += 1"
   ]
  },
  {
   "cell_type": "markdown",
   "metadata": {
    "colab_type": "text",
    "id": "aqV6vkCkWB7J"
   },
   "source": [
    "## Model Definition\n",
    "\n",
    "Given a mesh with V vertices and D-dimensional per-vertex input features (e.g.\n",
    "vertex position, normal), we would like to create a network capable of\n",
    "classifying each vertex to a part label. Lets first create a mesh encoder that\n",
    "encodes each vertex in the mesh into C-dimensional logits, where C is the number\n",
    "of parts. First we use 1x1 convolutions to change input feature dimensions,\n",
    "followed by a sequence of feature steered graph convolutions and ReLU\n",
    "non-linearities, and finally 1x1 convolutions to logits, which are used for\n",
    "computing softmax cross entropy as described below.\n",
    "\n",
    "Note that this model does not use any form of pooling, which is outside the scope of this notebook.\n",
    "\n",
    "![](https://storage.googleapis.com/tensorflow-graphics/notebooks/mesh_segmentation/mesh_segmentation_model_def.png)"
   ]
  },
  {
   "cell_type": "code",
   "execution_count": 6,
   "metadata": {
    "colab": {},
    "colab_type": "code",
    "id": "fQVeuGazM0LK"
   },
   "outputs": [],
   "source": [
    "MODEL_PARAMS = {\n",
    "    'num_filters': 8,\n",
    "    'num_classes': 4,\n",
    "    'encoder_filter_dims': [32, 64, 128, 256, 1024],\n",
    "    \n",
    "    # Adam Optimizer\n",
    "    'learning_rate': 0.001,\n",
    "    'beta': 0.9,\n",
    "    'adam_epsilon': 1e-08\n",
    "}\n",
    "\n",
    "\n",
    "def mesh_encoder(batch_mesh_data, num_filters, output_dim, conv_layer_dims):\n",
    "  \"\"\"A mesh encoder using feature steered graph convolutions.\n",
    "\n",
    "    The shorthands used below are\n",
    "      `B`: Batch size.\n",
    "      `V`: The maximum number of vertices over all meshes in the batch.\n",
    "      `D`: The number of dimensions of input vertex features, D=3 if vertex\n",
    "        positions are used as features.\n",
    "\n",
    "  Args:\n",
    "    batch_mesh_data: A mesh_data dict with following keys\n",
    "      'vertices': A [B, V, D] `float32` tensor of vertex features, possibly\n",
    "        0-padded.\n",
    "      'neighbors': A [B, V, V] `float32` sparse tensor of edge weights.\n",
    "      'num_vertices': A [B] `int32` tensor of number of vertices per mesh.\n",
    "    num_filters: The number of weight matrices to be used in feature steered\n",
    "      graph conv.\n",
    "    output_dim: A dimension of output per vertex features.\n",
    "    conv_layer_dims: A list of dimensions used in graph convolution layers.\n",
    "\n",
    "  Returns:\n",
    "    vertex_features: A [B, V, output_dim] `float32` tensor of per vertex\n",
    "      features.\n",
    "  \"\"\"\n",
    "  batch_vertices = batch_mesh_data['vertices']\n",
    "\n",
    "  # Linear: N x D --> N x 16.\n",
    "  vertex_features = tf.keras.layers.Conv1D(16, 1, name='lin16')(batch_vertices)\n",
    "\n",
    "  # graph convolution layers\n",
    "  for dim in conv_layer_dims:\n",
    "    with tf.variable_scope('conv_%d' % dim):\n",
    "      vertex_features = graph_conv.feature_steered_convolution_layer(\n",
    "          vertex_features,\n",
    "          batch_mesh_data['neighbors'],\n",
    "          batch_mesh_data['num_vertices'],\n",
    "          num_weight_matrices=num_filters,\n",
    "          num_output_channels=dim\n",
    "      )\n",
    "    vertex_features = tf.nn.relu(vertex_features)\n",
    "\n",
    "  # Linear: N x 128 --> N x 256.\n",
    "  vertex_features = tf.keras.layers.Conv1D(\n",
    "      256, 1, name='lin256')(\n",
    "          vertex_features)\n",
    "  vertex_features = tf.nn.relu(vertex_features)\n",
    "\n",
    "  # Linear: N x 256 --> N x output_dim.\n",
    "  vertex_features = tf.keras.layers.Conv1D(\n",
    "      output_dim, 1, name='lin_output')(\n",
    "          vertex_features)\n",
    "\n",
    "  return vertex_features"
   ]
  },
  {
   "cell_type": "markdown",
   "metadata": {
    "colab_type": "text",
    "id": "6c2pz4r_79F_"
   },
   "source": [
    "Given a mesh encoder, let's define a model_fn for a custom\n",
    "[tf.Estimator](https://www.tensorflow.org/api_docs/python/tf/estimator/Estimator)\n",
    "for vertex classification using softmax cross entropy loss. A tf.Estimator model_fn returns the ops necessary to perform training, evaluation, or predictions given inputs and a number of other parameters. Recall that the\n",
    "vertex tensor may be zero-padded (see Dataset Pipeline above), hence we must mask out the contribution from the padded values."
   ]
  },
  {
   "cell_type": "code",
   "execution_count": 7,
   "metadata": {
    "colab": {},
    "colab_type": "code",
    "id": "WE-cuv0i78ak"
   },
   "outputs": [],
   "source": [
    "def model_fn(features, labels, mode, params):\n",
    "  \"\"\"Returns a mesh segmentation model_fn for use with tf.Estimator.\"\"\"\n",
    "  logits = mesh_encoder(features, params['num_filters'], params['num_classes'],\n",
    "                        params['encoder_filter_dims'])\n",
    "  predictions = tf.argmax(logits, axis=-1, output_type=tf.int32)\n",
    "  outputs = {\n",
    "      'vertices': features['vertices'],\n",
    "      'triangles': features['triangles'],\n",
    "      'num_vertices': features['num_vertices'],\n",
    "      'num_triangles': features['num_triangles'],\n",
    "      'predictions': predictions\n",
    "  }\n",
    "  # For predictions, return the outputs.\n",
    "  if mode == tf.estimator.ModeKeys.PREDICT:\n",
    "    outputs['labels'] = features['labels']\n",
    "    return tf.estimator.EstimatorSpec(mode=mode, predictions=outputs)\n",
    "  # Loss\n",
    "  # Weight the losses by masking out padded vertices/labels.\n",
    "  vertex_ragged_sizes = features['num_vertices']\n",
    "  mask = tf.sequence_mask(vertex_ragged_sizes, tf.shape(labels)[-1])\n",
    "  loss_weights = tf.cast(mask, dtype=tf.float32)\n",
    "  loss = tf.losses.sparse_softmax_cross_entropy(\n",
    "      logits=logits, labels=labels, weights=loss_weights)\n",
    "  # For training, build the optimizer.\n",
    "  if mode == tf.estimator.ModeKeys.TRAIN:\n",
    "    optimizer = tf.train.AdamOptimizer(\n",
    "        learning_rate=params['learning_rate'],\n",
    "        beta1=params['beta'],\n",
    "        epsilon=params['adam_epsilon'])\n",
    "    update_ops = tf.get_collection(tf.GraphKeys.UPDATE_OPS)\n",
    "    with tf.control_dependencies(update_ops):\n",
    "      train_op = optimizer.minimize(\n",
    "          loss=loss, global_step=tf.train.get_global_step())\n",
    "    return tf.estimator.EstimatorSpec(mode=mode, loss=loss, train_op=train_op)\n",
    "\n",
    "  # For eval, return eval metrics.\n",
    "  eval_ops = {\n",
    "      'mean_loss':\n",
    "          tf.metrics.mean(loss),\n",
    "      'accuracy':\n",
    "          tf.metrics.accuracy(\n",
    "              labels=labels, predictions=predictions, weights=loss_weights)\n",
    "  }\n",
    "  return tf.estimator.EstimatorSpec(\n",
    "      mode=mode, loss=loss, eval_metric_ops=eval_ops)"
   ]
  },
  {
   "cell_type": "markdown",
   "metadata": {},
   "source": [
    "## Train model"
   ]
  },
  {
   "cell_type": "code",
   "execution_count": null,
   "metadata": {},
   "outputs": [
    {
     "name": "stderr",
     "output_type": "stream",
     "text": [
      "I0827 10:47:28.753488 4764538304 estimator.py:1790] Using default config.\n",
      "I0827 10:47:28.756253 4764538304 estimator.py:209] Using config: {'_model_dir': './smallDome_model_1', '_tf_random_seed': None, '_save_summary_steps': 100, '_save_checkpoints_steps': None, '_save_checkpoints_secs': 600, '_session_config': allow_soft_placement: true\n",
      "graph_options {\n",
      "  rewrite_options {\n",
      "    meta_optimizer_iterations: ONE\n",
      "  }\n",
      "}\n",
      ", '_keep_checkpoint_max': 5, '_keep_checkpoint_every_n_hours': 10000, '_log_step_count_steps': 100, '_train_distribute': None, '_device_fn': None, '_protocol': None, '_eval_distribute': None, '_experimental_distribute': None, '_experimental_max_worker_delay_secs': None, '_service': None, '_cluster_spec': <tensorflow.python.training.server_lib.ClusterSpec object at 0x141efd6d8>, '_task_type': 'worker', '_task_id': 0, '_global_id_in_cluster': 0, '_master': '', '_evaluation_master': '', '_is_chief': True, '_num_ps_replicas': 0, '_num_worker_replicas': 1}\n",
      "W0827 10:47:28.763701 4764538304 deprecation.py:323] From /usr/local/lib/python3.7/site-packages/tensorflow/python/training/training_util.py:236: Variable.initialized_value (from tensorflow.python.ops.variables) is deprecated and will be removed in a future version.\n",
      "Instructions for updating:\n",
      "Use Variable.read_value. Variables in 2.X are initialized automatically both in eager and graph (inside tf.defun) contexts.\n",
      "I0827 10:47:28.934149 4764538304 estimator.py:1145] Calling model_fn.\n",
      "W0827 10:47:28.935016 4764538304 deprecation.py:506] From /usr/local/lib/python3.7/site-packages/tensorflow/python/ops/init_ops.py:1251: calling VarianceScaling.__init__ (from tensorflow.python.ops.init_ops) with dtype is deprecated and will be removed in a future version.\n",
      "Instructions for updating:\n",
      "Call initializer instance with the dtype argument instead of passing it to the constructor\n",
      "/usr/local/lib/python3.7/site-packages/tensorflow/python/ops/gradients_util.py:93: UserWarning: Converting sparse IndexedSlices to a dense Tensor of unknown shape. This may consume a large amount of memory.\n",
      "  \"Converting sparse IndexedSlices to a dense Tensor of unknown shape. \"\n",
      "/usr/local/lib/python3.7/site-packages/tensorflow/python/ops/gradients_util.py:93: UserWarning: Converting sparse IndexedSlices to a dense Tensor of unknown shape. This may consume a large amount of memory.\n",
      "  \"Converting sparse IndexedSlices to a dense Tensor of unknown shape. \"\n",
      "/usr/local/lib/python3.7/site-packages/tensorflow/python/ops/gradients_util.py:93: UserWarning: Converting sparse IndexedSlices to a dense Tensor of unknown shape. This may consume a large amount of memory.\n",
      "  \"Converting sparse IndexedSlices to a dense Tensor of unknown shape. \"\n",
      "/usr/local/lib/python3.7/site-packages/tensorflow/python/ops/gradients_util.py:93: UserWarning: Converting sparse IndexedSlices to a dense Tensor of unknown shape. This may consume a large amount of memory.\n",
      "  \"Converting sparse IndexedSlices to a dense Tensor of unknown shape. \"\n",
      "/usr/local/lib/python3.7/site-packages/tensorflow/python/ops/gradients_util.py:93: UserWarning: Converting sparse IndexedSlices to a dense Tensor of unknown shape. This may consume a large amount of memory.\n",
      "  \"Converting sparse IndexedSlices to a dense Tensor of unknown shape. \"\n",
      "I0827 10:47:31.934803 4764538304 estimator.py:1147] Done calling model_fn.\n",
      "I0827 10:47:31.936692 4764538304 basic_session_run_hooks.py:541] Create CheckpointSaverHook.\n",
      "I0827 10:47:32.663175 4764538304 monitored_session.py:240] Graph was finalized.\n",
      "I0827 10:47:33.043652 4764538304 session_manager.py:500] Running local_init_op.\n",
      "I0827 10:47:33.113375 4764538304 session_manager.py:502] Done running local_init_op.\n",
      "I0827 10:47:35.191325 4764538304 basic_session_run_hooks.py:606] Saving checkpoints for 0 into ./smallDome_model_1/model.ckpt.\n"
     ]
    }
   ],
   "source": [
    "train_io_params = {\n",
    "    'is_training': True,\n",
    "    'sloppy': False,\n",
    "    'shuffle': True,\n",
    "    'repeat': True,\n",
    "    'batch_size': 5\n",
    "}\n",
    "train_tfrecords = ['./datasets/cosegCup.train.tfrecords']\n",
    "\n",
    "# Show training progress\n",
    "tf.logging.set_verbosity(tf.logging.INFO)\n",
    "\n",
    "def train_fn():\n",
    "  return dataio.create_input_from_dataset(dataio.create_dataset_from_tfrecords,\n",
    "                                          train_tfrecords,\n",
    "                                          train_io_params)\n",
    "local_model_dir = \"./saved_models/cosegCup_model_0\"\n",
    "\n",
    "estimator = tf.estimator.Estimator(model_fn=model_fn,\n",
    "                                   model_dir=local_model_dir,\n",
    "                                   params=MODEL_PARAMS)\n",
    "estimator.train(input_fn=train_fn, steps=1000)"
   ]
  },
  {
   "cell_type": "markdown",
   "metadata": {
    "colab_type": "text",
    "id": "94FICCro_dLV"
   },
   "source": [
    "## Test model & visualize results\n",
    "\n",
    "Now that we have defined the model, let's load the weights from the trained model downloaded above and use tf.Estimator.predict to predict the part labels for meshes in the test dataset."
   ]
  },
  {
   "cell_type": "code",
   "execution_count": 6,
   "metadata": {
    "colab": {},
    "colab_type": "code",
    "id": "Olj5zIkg72FK"
   },
   "outputs": [
    {
     "ename": "NameError",
     "evalue": "name 'test_data_files' is not defined",
     "output_type": "error",
     "traceback": [
      "\u001b[0;31m---------------------------------------------------------------------------\u001b[0m",
      "\u001b[0;31mNameError\u001b[0m                                 Traceback (most recent call last)",
      "\u001b[0;32m<ipython-input-6-a44d36d7636c>\u001b[0m in \u001b[0;36m<module>\u001b[0;34m\u001b[0m\n\u001b[1;32m      6\u001b[0m     \u001b[0;34m'batch_size'\u001b[0m\u001b[0;34m:\u001b[0m \u001b[0;36m2\u001b[0m\u001b[0;34m\u001b[0m\u001b[0m\n\u001b[1;32m      7\u001b[0m }\n\u001b[0;32m----> 8\u001b[0;31m \u001b[0mtest_tfrecords\u001b[0m \u001b[0;34m=\u001b[0m \u001b[0mtest_data_files\u001b[0m\u001b[0;34m\u001b[0m\u001b[0m\n\u001b[0m\u001b[1;32m      9\u001b[0m \u001b[0mprint\u001b[0m\u001b[0;34m(\u001b[0m\u001b[0mtest_tfrecords\u001b[0m\u001b[0;34m)\u001b[0m\u001b[0;34m\u001b[0m\u001b[0m\n\u001b[1;32m     10\u001b[0m \u001b[0;34m\u001b[0m\u001b[0m\n",
      "\u001b[0;31mNameError\u001b[0m: name 'test_data_files' is not defined"
     ]
    }
   ],
   "source": [
    "test_io_params = {\n",
    "    'is_training': False,\n",
    "    'sloppy': False,\n",
    "    'shuffle': True,\n",
    "}\n",
    "test_tfrecords = ['./datasets/cosegCup.train.tfrecords']\n",
    "\n",
    "def predict_fn():\n",
    "  return dataio.create_input_from_dataset(dataio.create_dataset_from_tfrecords,\n",
    "                                          test_tfrecords,\n",
    "                                          test_io_params)\n",
    "local_model_dir = \"./saved_models/cosegCup_model_0\"\n",
    "\n",
    "estimator = tf.estimator.Estimator(model_fn=model_fn,\n",
    "                                   model_dir=local_model_dir,\n",
    "                                   params=MODEL_PARAMS)\n",
    "test_predictions = estimator.predict(input_fn=predict_fn)"
   ]
  },
  {
   "cell_type": "markdown",
   "metadata": {
    "colab_type": "text",
    "id": "IO1VmbL087xf"
   },
   "source": [
    "Run the following cell repeatedly to cycle through the meshes in the test sequence. The left view shows the input mesh, and the right view shows the predicted part labels."
   ]
  },
  {
   "cell_type": "code",
   "execution_count": 143,
   "metadata": {
    "colab": {},
    "colab_type": "code",
    "id": "xuoVe70D5PAF"
   },
   "outputs": [
    {
     "data": {
      "application/vnd.jupyter.widget-view+json": {
       "model_id": "e7692ac66f9d4b25aae6ec17ec60c841",
       "version_major": 2,
       "version_minor": 0
      },
      "text/plain": [
       "Renderer(background='#dddddd', camera=PerspectiveCamera(aspect=1.5, children=(DirectionalLight(position=(-30.0…"
      ]
     },
     "metadata": {},
     "output_type": "display_data"
    },
    {
     "data": {
      "application/vnd.jupyter.widget-view+json": {
       "model_id": "9581de21a6094d1b957f6a9608bfa3a9",
       "version_major": 2,
       "version_minor": 0
      },
      "text/plain": [
       "Renderer(background='#dddddd', camera=PerspectiveCamera(aspect=1.5, children=(DirectionalLight(position=(-30.0…"
      ]
     },
     "metadata": {},
     "output_type": "display_data"
    },
    {
     "name": "stdout",
     "output_type": "stream",
     "text": [
      "0\n"
     ]
    }
   ],
   "source": [
    "prediction = next(test_predictions)\n",
    "input_mesh_data = {\n",
    "    'vertices': prediction['vertices'],\n",
    "    'faces': prediction['triangles'],\n",
    "    'vertex_colors': mesh_viewer.SEGMENTATION_COLORMAP[prediction['labels']],\n",
    "}\n",
    "predicted_mesh_data = {\n",
    "    'vertices': prediction['vertices'],\n",
    "    'faces': prediction['triangles'],\n",
    "    'vertex_colors': mesh_viewer.SEGMENTATION_COLORMAP[prediction['predictions']],\n",
    "}\n",
    "\n",
    "display_mesh(input_mesh_data)\n",
    "display_mesh(predicted_mesh_data)"
   ]
  }
 ],
 "metadata": {
  "colab": {
   "collapsed_sections": [],
   "name": "Copy of mesh_segmentation_demo.ipynb",
   "private_outputs": true,
   "provenance": [],
   "toc_visible": true,
   "version": "0.3.2"
  },
  "kernelspec": {
   "display_name": "Python 3",
   "language": "python",
   "name": "python3"
  },
  "language_info": {
   "codemirror_mode": {
    "name": "ipython",
    "version": 3
   },
   "file_extension": ".py",
   "mimetype": "text/x-python",
   "name": "python",
   "nbconvert_exporter": "python",
   "pygments_lexer": "ipython3",
   "version": "3.7.0"
  }
 },
 "nbformat": 4,
 "nbformat_minor": 1
}
